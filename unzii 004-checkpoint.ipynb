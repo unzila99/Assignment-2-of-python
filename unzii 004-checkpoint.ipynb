{
 "cells": [
  {
   "cell_type": "code",
   "execution_count": 1,
   "metadata": {},
   "outputs": [
    {
     "name": "stdout",
     "output_type": "stream",
     "text": [
      "unzilla chand\n",
      "siddique\n",
      "23\n",
      "yderabad\n",
      "waleed's favorite number is 42.\n",
      "attique's favorite number is 23.\n",
      "fahads favorite number is 7.\n",
      "ahmed's favorite number is 1000000.\n",
      "faraz's favorite number is 0.\n"
     ]
    }
   ],
   "source": [
    "person = {\n",
    "    'first_name': 'unzilla chand',\n",
    "    'last_name': 'siddique',\n",
    "    'age': 23,\n",
    "    'city': 'yderabad',\n",
    "    }\n",
    "\n",
    "print(person['first_name'])\n",
    "print(person['last_name'])\n",
    "print(person['age'])\n",
    "print(person['city'])\n",
    "favorite_numbers = {\n",
    "    'waleed': 42,\n",
    "    'attique': 23,\n",
    "    'fahad': 7,\n",
    "    'ahmed': 1000000,\n",
    "    'faraz': 0,\n",
    "    }\n",
    "\n",
    "num = favorite_numbers['waleed']\n",
    "print(\"waleed's favorite number is \" + str(num) + \".\")\n",
    "\n",
    "num = favorite_numbers['attique']\n",
    "print(\"attique's favorite number is \" + str(num) + \".\")\n",
    "\n",
    "num = favorite_numbers['fahad']\n",
    "print(\"fahads favorite number is \" + str(num) + \".\")\n",
    "\n",
    "num = favorite_numbers['ahmed']\n",
    "print(\"ahmed's favorite number is \" + str(num) + \".\")\n",
    "\n",
    "num = favorite_numbers['faraz']\n",
    "print(\"faraz's favorite number is \" + str(num) + \".\")"
   ]
  },
  {
   "cell_type": "code",
   "execution_count": 2,
   "metadata": {},
   "outputs": [
    {
     "name": "stdout",
     "output_type": "stream",
     "text": [
      "Zara's favorite language is Python.\n",
      "Famena's favorite language is C.\n",
      "Jerry's favorite language is Ruby.\n",
      "Unzilla's favorite language is Python.\n",
      "\n",
      "\n",
      "Phil, what's your favorite programming language?\n",
      "Josh, what's your favorite programming language?\n",
      "David, what's your favorite programming language?\n",
      "Becca, what's your favorite programming language?\n",
      "Sarah, what's your favorite programming language?\n",
      "Matt, what's your favorite programming language?\n",
      "Danielle, what's your favorite programming language?\n"
     ]
    }
   ],
   "source": [
    "favorite_languages = {\n",
    "    'zara': 'python',\n",
    "    'famena': 'c',\n",
    "    'jerry': 'ruby',\n",
    "    'unzilla': 'python',\n",
    "    }\n",
    "\n",
    "for name, language in favorite_languages.items():\n",
    "    print(name.title() + \"'s favorite language is \" +\n",
    "        language.title() + \".\")\n",
    "\n",
    "print(\"\\n\")\n",
    "\n",
    "coders = ['phil', 'josh', 'david', 'becca', 'sarah', 'matt', 'danielle']\n",
    "for coder in coders:\n",
    "    if coder in favorite_languages.keys():\n",
    "        print(\"Thank you for taking the poll, \" + coder.title() + \"!\")\n",
    "    else:\n",
    "        print(coder.title() + \", what's your favorite programming language?\")"
   ]
  },
  {
   "cell_type": "code",
   "execution_count": 4,
   "metadata": {},
   "outputs": [
    {
     "name": "stdout",
     "output_type": "stream",
     "text": [
      "How old are you?\n",
      "Enter 'quit' when you are finished. 2\n",
      "  You get in free!\n",
      "How old are you?\n",
      "Enter 'quit' when you are finished. 4\n",
      "  Your ticket is $10.\n",
      "How old are you?\n",
      "Enter 'quit' when you are finished. 12\n",
      "  Your ticket is $10.\n",
      "How old are you?\n",
      "Enter 'quit' when you are finished. quit\n"
     ]
    }
   ],
   "source": [
    "prompt = \"How old are you?\"\n",
    "prompt += \"\\nEnter 'quit' when you are finished. \"\n",
    "\n",
    "while True:\n",
    "    age = input(prompt)\n",
    "    if age == 'quit':\n",
    "        break\n",
    "    age = int(age)\n",
    "\n",
    "    if age < 3:\n",
    "        print(\"  You get in free!\")\n",
    "    elif age < 13:\n",
    "        print(\"  Your ticket is $10.\")\n",
    "    else:\n",
    "        print(\"  Your ticket is $15.\")"
   ]
  },
  {
   "cell_type": "code",
   "execution_count": 5,
   "metadata": {},
   "outputs": [
    {
     "name": "stdout",
     "output_type": "stream",
     "text": [
      "The Abstract Wild is one of my favorite books.\n"
     ]
    }
   ],
   "source": [
    "def favorite_book(title):\n",
    "    \"\"\"Display a message about someone's favorite book.\"\"\"\n",
    "    print(title + \" is one of my favorite books.\")\n",
    "\n",
    "favorite_book('The Abstract Wild')"
   ]
  },
  {
   "cell_type": "code",
   "execution_count": 6,
   "metadata": {},
   "outputs": [
    {
     "name": "stdout",
     "output_type": "stream",
     "text": [
      "Is it  4  ?\n",
      "4\n",
      "Huh? \"higher\", \"lower\", or \"yes\" are valid responses.\n",
      "Is it  4  ?\n",
      "5\n",
      "Huh? \"higher\", \"lower\", or \"yes\" are valid responses.\n",
      "Is it  4  ?\n",
      "3\n",
      "Huh? \"higher\", \"lower\", or \"yes\" are valid responses.\n",
      "Is it  4  ?\n",
      "higher\n",
      "Is it  29  ?\n",
      "higher\n",
      "Is it  30  ?\n",
      "higjer\n",
      "Huh? \"higher\", \"lower\", or \"yes\" are valid responses.\n",
      "Is it  30  ?\n",
      "higher\n"
     ]
    },
    {
     "ename": "ValueError",
     "evalue": "empty range for randrange() (31,31, 0)",
     "output_type": "error",
     "traceback": [
      "\u001b[1;31m---------------------------------------------------------------------------\u001b[0m",
      "\u001b[1;31mValueError\u001b[0m                                Traceback (most recent call last)",
      "\u001b[1;32m<ipython-input-6-bb8dffd67b17>\u001b[0m in \u001b[0;36m<module>\u001b[1;34m\u001b[0m\n\u001b[0;32m     11\u001b[0m     \u001b[1;32mif\u001b[0m \u001b[0mresponse\u001b[0m \u001b[1;33m==\u001b[0m \u001b[1;34m\"higher\"\u001b[0m\u001b[1;33m:\u001b[0m\u001b[1;33m\u001b[0m\u001b[1;33m\u001b[0m\u001b[0m\n\u001b[0;32m     12\u001b[0m         \u001b[0mlowBound\u001b[0m \u001b[1;33m=\u001b[0m \u001b[0mrandomNumber\u001b[0m \u001b[1;33m+\u001b[0m \u001b[1;36m1\u001b[0m\u001b[1;33m\u001b[0m\u001b[1;33m\u001b[0m\u001b[0m\n\u001b[1;32m---> 13\u001b[1;33m         \u001b[0mrandomNumber\u001b[0m \u001b[1;33m=\u001b[0m \u001b[0mrandom\u001b[0m\u001b[1;33m.\u001b[0m\u001b[0mrandint\u001b[0m\u001b[1;33m(\u001b[0m\u001b[0mlowBound\u001b[0m\u001b[1;33m,\u001b[0m\u001b[0mhighBound\u001b[0m\u001b[1;33m)\u001b[0m\u001b[1;33m\u001b[0m\u001b[1;33m\u001b[0m\u001b[0m\n\u001b[0m\u001b[0;32m     14\u001b[0m     \u001b[1;32melif\u001b[0m \u001b[0mresponse\u001b[0m \u001b[1;33m==\u001b[0m \u001b[1;34m\"lower\"\u001b[0m\u001b[1;33m:\u001b[0m\u001b[1;33m\u001b[0m\u001b[1;33m\u001b[0m\u001b[0m\n\u001b[0;32m     15\u001b[0m         \u001b[0mhighBound\u001b[0m \u001b[1;33m=\u001b[0m \u001b[0mrandomNumber\u001b[0m \u001b[1;33m-\u001b[0m \u001b[1;36m1\u001b[0m\u001b[1;33m\u001b[0m\u001b[1;33m\u001b[0m\u001b[0m\n",
      "\u001b[1;32m~\\Anaconda3\\lib\\random.py\u001b[0m in \u001b[0;36mrandint\u001b[1;34m(self, a, b)\u001b[0m\n\u001b[0;32m    220\u001b[0m         \"\"\"\n\u001b[0;32m    221\u001b[0m \u001b[1;33m\u001b[0m\u001b[0m\n\u001b[1;32m--> 222\u001b[1;33m         \u001b[1;32mreturn\u001b[0m \u001b[0mself\u001b[0m\u001b[1;33m.\u001b[0m\u001b[0mrandrange\u001b[0m\u001b[1;33m(\u001b[0m\u001b[0ma\u001b[0m\u001b[1;33m,\u001b[0m \u001b[0mb\u001b[0m\u001b[1;33m+\u001b[0m\u001b[1;36m1\u001b[0m\u001b[1;33m)\u001b[0m\u001b[1;33m\u001b[0m\u001b[1;33m\u001b[0m\u001b[0m\n\u001b[0m\u001b[0;32m    223\u001b[0m \u001b[1;33m\u001b[0m\u001b[0m\n\u001b[0;32m    224\u001b[0m     def _randbelow(self, n, int=int, maxsize=1<<BPF, type=type,\n",
      "\u001b[1;32m~\\Anaconda3\\lib\\random.py\u001b[0m in \u001b[0;36mrandrange\u001b[1;34m(self, start, stop, step, _int)\u001b[0m\n\u001b[0;32m    198\u001b[0m             \u001b[1;32mreturn\u001b[0m \u001b[0mistart\u001b[0m \u001b[1;33m+\u001b[0m \u001b[0mself\u001b[0m\u001b[1;33m.\u001b[0m\u001b[0m_randbelow\u001b[0m\u001b[1;33m(\u001b[0m\u001b[0mwidth\u001b[0m\u001b[1;33m)\u001b[0m\u001b[1;33m\u001b[0m\u001b[1;33m\u001b[0m\u001b[0m\n\u001b[0;32m    199\u001b[0m         \u001b[1;32mif\u001b[0m \u001b[0mstep\u001b[0m \u001b[1;33m==\u001b[0m \u001b[1;36m1\u001b[0m\u001b[1;33m:\u001b[0m\u001b[1;33m\u001b[0m\u001b[1;33m\u001b[0m\u001b[0m\n\u001b[1;32m--> 200\u001b[1;33m             \u001b[1;32mraise\u001b[0m \u001b[0mValueError\u001b[0m\u001b[1;33m(\u001b[0m\u001b[1;34m\"empty range for randrange() (%d,%d, %d)\"\u001b[0m \u001b[1;33m%\u001b[0m \u001b[1;33m(\u001b[0m\u001b[0mistart\u001b[0m\u001b[1;33m,\u001b[0m \u001b[0mistop\u001b[0m\u001b[1;33m,\u001b[0m \u001b[0mwidth\u001b[0m\u001b[1;33m)\u001b[0m\u001b[1;33m)\u001b[0m\u001b[1;33m\u001b[0m\u001b[1;33m\u001b[0m\u001b[0m\n\u001b[0m\u001b[0;32m    201\u001b[0m \u001b[1;33m\u001b[0m\u001b[0m\n\u001b[0;32m    202\u001b[0m         \u001b[1;31m# Non-unit step argument supplied.\u001b[0m\u001b[1;33m\u001b[0m\u001b[1;33m\u001b[0m\u001b[1;33m\u001b[0m\u001b[0m\n",
      "\u001b[1;31mValueError\u001b[0m: empty range for randrange() (31,31, 0)"
     ]
    }
   ],
   "source": [
    "import random\n",
    "\n",
    "lowBound = 0\n",
    "highBound = 30\n",
    "response = ''\n",
    "randomNumber = random.randint(lowBound,highBound)\n",
    "\n",
    "while response != \"yes\":\n",
    "    print (\"Is it \", randomNumber, \" ?\")\n",
    "    response = input()\n",
    "    if response == \"higher\":\n",
    "        lowBound = randomNumber + 1   \n",
    "        randomNumber = random.randint(lowBound,highBound)\n",
    "    elif response == \"lower\":\n",
    "        highBound = randomNumber - 1\n",
    "        randomNumber = random.randint(lowBound,highBound)\n",
    "    elif response == \"yes\":\n",
    "        print (\"Woohooo, I'm so bitchin'\")\n",
    "        break\n",
    "    else:\n",
    "        print ('Huh? \"higher\", \"lower\", or \"yes\" are valid responses.')"
   ]
  },
  {
   "cell_type": "code",
   "execution_count": null,
   "metadata": {},
   "outputs": [],
   "source": []
  }
 ],
 "metadata": {
  "kernelspec": {
   "display_name": "Python 3",
   "language": "python",
   "name": "python3"
  },
  "language_info": {
   "codemirror_mode": {
    "name": "ipython",
    "version": 3
   },
   "file_extension": ".py",
   "mimetype": "text/x-python",
   "name": "python",
   "nbconvert_exporter": "python",
   "pygments_lexer": "ipython3",
   "version": "3.7.4"
  }
 },
 "nbformat": 4,
 "nbformat_minor": 2
}
